{
 "cells": [
  {
   "cell_type": "code",
   "execution_count": 290,
   "id": "6ec782c3-3e64-4b3c-9212-ec708a1851e2",
   "metadata": {},
   "outputs": [],
   "source": [
    "from blackjack import BlackjackEnv\n",
    "import numpy as np"
   ]
  },
  {
   "cell_type": "code",
   "execution_count": 9,
   "id": "cc8c1a6f-885b-47bb-a3fc-6fff6224900c",
   "metadata": {},
   "outputs": [],
   "source": [
    "import numpy as np"
   ]
  },
  {
   "cell_type": "code",
   "execution_count": 45,
   "id": "032864e1-b52a-4369-b8fb-6926e1a04ff8",
   "metadata": {},
   "outputs": [],
   "source": [
    "import matplotlib.pyplot as plt"
   ]
  },
  {
   "cell_type": "code",
   "execution_count": 35,
   "id": "22b08df8-0b03-4543-b9f8-7cdc7600cd25",
   "metadata": {},
   "outputs": [],
   "source": [
    "env = BlackjackEnv(natural=True)"
   ]
  },
  {
   "cell_type": "markdown",
   "id": "3963b454-ddf9-40a2-8da2-f652a891ae84",
   "metadata": {},
   "source": [
    "### Часть первая, с блекджеком и стратегиями\n",
    "Мы будем обучаться играть в очень простую, но знаменитую и популярную игру: блекджек. \n"
   ]
  },
  {
   "cell_type": "markdown",
   "id": "f183edd2-8bc4-4562-b3bc-6ca3aab75965",
   "metadata": {},
   "source": [
    "Правила блекджека достаточно просты; давайте начнём с самой базовой версии, которая реализована в OpenAI Gym:\n",
    " - численные значения карт равны от 2 до 10 для карт от двойки до десятки, 10 для валетов, дам и королей;\n",
    " - туз считается за 11 очков, если общая сумма карт на руке при этом не превосходит 21 (по-английски в этом случае говорят, что на руке есть usable ace), и за 1 очко, если превосходит;\n",
    " - игроку раздаются две карты, дилеру — одна в открытую и одна в закрытую;\n",
    " - игрок может совершать одно из двух действий:\n",
    " - hit  — взять ещё одну карту;\n",
    " - stand — не брать больше карт;\n",
    " - если сумма очков у игрока на руках больше 21, он проигрывает (bust);\n",
    " - если игрок выбирает stand с суммой не больше 21, дилер добирает карты, пока сумма карт в его руке меньше 17;\n",
    " - после этого игрок выигрывает, если дилер либо превышает 21, либо получает сумму очков меньше, чем сумма очков у игрока; при равенстве очков объявляется ничья (ставка возвращается);\n",
    " - в исходных правилах есть ещё дополнительный бонус за natural blackjack: если игрок набирает 21 очко с раздачи, двумя картами, он выигрывает не +1, а +1.5 (полторы ставки).\n",
    " \n",
    "Именно этот простейший вариант блекджека реализован в OpenAI Gym:\n",
    "https://github.com/openai/gym/blob/master/gym/envs/toy_text/blackjack.py \n"
   ]
  },
  {
   "cell_type": "markdown",
   "id": "56b6614c-e572-4631-a7b3-20478cf39eff",
   "metadata": {},
   "source": [
    "### 1. Рассмотрим очень простую стратегию: говорить stand, если у нас на руках комбинация в 19, 20 или 21 очко, во всех остальных случаях говорить hit. Используйте методы Монте-Карло, чтобы оценить выигрыш от этой стратегии."
   ]
  },
  {
   "cell_type": "code",
   "execution_count": 36,
   "id": "86d0da0c-3728-4fc9-b4dd-6f024f3ea6a5",
   "metadata": {},
   "outputs": [],
   "source": [
    "def one_game(env):\n",
    "    state, _ = env.reset()\n",
    "    while True:\n",
    "        do = 0 if state[0] >= 19 else 1\n",
    "        state, reward, stop_game, _, _ = env.step(do)\n",
    "        if stop_game:\n",
    "            break\n",
    "    return reward"
   ]
  },
  {
   "cell_type": "code",
   "execution_count": 37,
   "id": "48d9e8f7-2046-465a-b3e1-0a137655405b",
   "metadata": {},
   "outputs": [],
   "source": [
    "def games(env, count):\n",
    "    sum_reward = 0\n",
    "    for _ in range(count):\n",
    "        sum_reward += one_game(env) \n",
    "    return sum_reward/ count"
   ]
  },
  {
   "cell_type": "code",
   "execution_count": 38,
   "id": "b15ce434-a80a-4885-a7de-87f7eddffa28",
   "metadata": {},
   "outputs": [],
   "source": [
    "def episode(env, count_episode, count_games):\n",
    "    games_sum_rewards = 0\n",
    "    for _ in range(count_episode):\n",
    "        games_sum_rewards +=  games(env, count_games)\n",
    "    return games_sum_rewards / count_episode"
   ]
  },
  {
   "cell_type": "code",
   "execution_count": 39,
   "id": "3a31cb3c-4a0b-4b12-a4fc-aa4c437b5dc1",
   "metadata": {},
   "outputs": [
    {
     "data": {
      "text/plain": [
       "-0.18063349999999992"
      ]
     },
     "execution_count": 39,
     "metadata": {},
     "output_type": "execute_result"
    }
   ],
   "source": [
    "episode(env, 1000, 1000)"
   ]
  },
  {
   "cell_type": "markdown",
   "id": "f2c8183a-a92f-4807-9d37-e2f7f1bff521",
   "metadata": {},
   "source": [
    "### 2. Реализуйте метод обучения с подкреплением без модели (можно Q-обучение, но рекомендую попробовать и другие, например Monte Carlo control) для обучения стратегии в блекджеке, используя окружение BlackjackEnv из OpenAI Gym."
   ]
  },
  {
   "cell_type": "code",
   "execution_count": 11,
   "id": "0610b972-bc9d-42c3-a011-2f7be46d7478",
   "metadata": {},
   "outputs": [],
   "source": [
    "alpha = 0.003\n",
    "gamma = 0.06"
   ]
  },
  {
   "cell_type": "code",
   "execution_count": 7,
   "id": "aa9245bb-d7f7-4957-9295-ee4eb5bc0f65",
   "metadata": {},
   "outputs": [],
   "source": [
    "from collections import defaultdict"
   ]
  },
  {
   "cell_type": "code",
   "execution_count": 252,
   "id": "3582adfe-9f77-4349-9069-202b0e8fd68a",
   "metadata": {},
   "outputs": [],
   "source": [
    "Q = defaultdict()\n",
    "\n",
    "for i in range(2,50):\n",
    "    Q[i] = {} \n",
    "    for k in range(0,11):\n",
    "        Q[i][k] = {1: 0, 0: 0}\n",
    "# print(Q)\n",
    "step = []\n",
    "rewards = []\n",
    "avg_rewards = []\n",
    "stop_game = True\n",
    "for i in range(1000000):\n",
    "    state_new, _ = env.reset()\n",
    "    \n",
    "    while True:\n",
    "        state = state_new\n",
    "        player_score = state[0] \n",
    "        diler_score = state[1]\n",
    "        dict_action = Q[player_score][diler_score]\n",
    "        if np.random.rand() < 0.1:\n",
    "            action = np.random.choice(list(dict_action.keys()))\n",
    "        else: \n",
    "            \n",
    "            action = max(dict_action, key=dict_action.get)\n",
    "           \n",
    "        state_new, reward, stop_game, _, _ = env.step(action)\n",
    "\n",
    "        player_score_new = state_new[0]\n",
    "        diler_score_new = state_new[1]\n",
    "        Q[player_score][diler_score][action] = Q[player_score][diler_score][action] + alpha * (reward + gamma * max( Q[player_score_new][diler_score_new].values()) - Q[player_score][diler_score][action])        \n",
    "        if stop_game:\n",
    "            break\n",
    "    rewards.append(reward)\n",
    "    if i % 50000 ==0 :\n",
    "        step.append(i)\n",
    "        avg_rewards.append(np.mean(rewards))\n",
    "\n"
   ]
  },
  {
   "cell_type": "code",
   "execution_count": 253,
   "id": "424ad823-0817-4cfe-bb69-0b376cf36c0d",
   "metadata": {},
   "outputs": [
    {
     "data": {
      "text/plain": [
       "-0.075122"
      ]
     },
     "execution_count": 253,
     "metadata": {},
     "output_type": "execute_result"
    }
   ],
   "source": [
    "np.mean(rewards)"
   ]
  },
  {
   "cell_type": "markdown",
   "id": "2d6dc6ba-c113-460b-92d5-48f13a0511c1",
   "metadata": {},
   "source": [
    "### 3. Сколько выигрывает казино у вашей стратегии? Нарисуйте графики среднего дохода вашего метода (усреднённого по крайней мере по 100000 раздач, а лучше больше) по ходу обучения. Попробуйте подобрать оптимальные гиперпараметры"
   ]
  },
  {
   "cell_type": "code",
   "execution_count": 305,
   "id": "f2ab23fe-e4ae-4b22-aad8-10dbff2f696e",
   "metadata": {},
   "outputs": [],
   "source": [
    "reward_sum = 0\n",
    "for _ in range(10):\n",
    "    for i in range(100):\n",
    "        state_new, _ = env.reset()\n",
    "\n",
    "        while True:\n",
    "            state = state_new\n",
    "            player_score = state[0] \n",
    "            diler_score = state[1]\n",
    "            dict_action = Q[player_score][diler_score]\n",
    "            if np.random.rand() < 0.1:\n",
    "                action = np.random.choice(list(dict_action.keys()))\n",
    "            else: \n",
    "                action = max(dict_action, key=dict_action.get)\n",
    "            state_new, reward, stop_game, _, _ = env.step(action)\n",
    "\n",
    "            player_score_new = state_new[0]\n",
    "            diler_score_new = state_new[1]\n",
    "            Q[player_score][diler_score][action] = Q[player_score][diler_score][action] + alpha * (reward + gamma * max( Q[player_score_new][diler_score_new].values()) - Q[player_score][diler_score][action])        \n",
    "            if stop_game:\n",
    "                break\n",
    "        reward_sum += reward"
   ]
  },
  {
   "cell_type": "code",
   "execution_count": 306,
   "id": "eacc43de-dac6-427e-b031-7fac11782d52",
   "metadata": {},
   "outputs": [
    {
     "name": "stdout",
     "output_type": "stream",
     "text": [
      "Казино выиграет: 42.5\n"
     ]
    }
   ],
   "source": [
    "print(f'Казино выиграет: {-1 * reward_sum}')"
   ]
  },
  {
   "cell_type": "code",
   "execution_count": 307,
   "id": "598699f8-145e-4de1-b83b-a86500e44cb2",
   "metadata": {},
   "outputs": [
    {
     "data": {
      "text/plain": [
       "Text(0, 0.5, 'Средний выиграш')"
      ]
     },
     "execution_count": 307,
     "metadata": {},
     "output_type": "execute_result"
    },
    {
     "data": {
      "image/png": "[encoded data removed]",
      "text/plain": [
       "<Figure size 1080x504 with 1 Axes>"
      ]
     },
     "metadata": {
      "needs_background": "light"
     },
     "output_type": "display_data"
    }
   ],
   "source": [
    "plt.figure(figsize=(15, 7))\n",
    "plt.plot(step[1:], avg_rewards[1:])\n",
    "plt.xlabel(\"Кол-во раздач\")\n",
    "plt.ylabel(\"Средний выиграш\")"
   ]
  },
  {
   "cell_type": "markdown",
   "id": "ce15d386-8022-44f5-a29f-9c830da4431c",
   "metadata": {},
   "source": [
    "Оптимальные гиперпараметры: \n",
    "alpha = 0.003\n",
    "gamma = 0.06"
   ]
  },
  {
   "cell_type": "markdown",
   "id": "ce52641c-2664-4fc9-903d-6e892f9068e4",
   "metadata": {},
   "source": [
    "### Часть вторая, удвоенная\n",
    "В базовый блекджек, описанный в предыдущем разделе, обыграть казино вряд ли получится. Но, к счастью, на этом история не заканчивается. Описанные выше правила были упрощёнными, а на самом деле у игрока есть ещё и другие возможности. Реализовывать split может оказаться непросто, поэтому давайте ограничимся удвоением ставки. Итак, у игрока появляется дополнительное действие:\n",
    "\n",
    "- double — удвоить ставку; \n",
    "- при этом больше действий делать нельзя, игроку выдаётся ровно одна дополнительная карта, а выигрыш или проигрыш удваивается.\n",
    "- Реализуйте новый вариант блекджека на основе окружения BlackjackEnv из OpenAI Gym, в котором разрешено удвоение ставки.\n",
    "- Реализуйте метод обучения с подкреплением без модели для этого варианта, постройте графики, аналогичные п.2.\n"
   ]
  },
  {
   "cell_type": "code",
   "execution_count": 1,
   "id": "3b8f44c6-a944-4409-a244-e660b969614d",
   "metadata": {},
   "outputs": [],
   "source": [
    "from blackjack_with_double import BlackjackEnv"
   ]
  },
  {
   "cell_type": "code",
   "execution_count": 2,
   "id": "2d25bf70-4a18-4b0c-8360-e2cb09e0d7a4",
   "metadata": {},
   "outputs": [],
   "source": [
    "env = BlackjackEnv()"
   ]
  },
  {
   "cell_type": "code",
   "execution_count": 39,
   "id": "8e6d606a-dfc9-4e47-8b3e-7d0703a42fa1",
   "metadata": {},
   "outputs": [],
   "source": [
    "alpha = 0.002\n",
    "gamma = 0.07"
   ]
  },
  {
   "cell_type": "code",
   "execution_count": 77,
   "id": "e660eac1-1f47-4c57-b09b-0a6b37738110",
   "metadata": {},
   "outputs": [],
   "source": [
    "Q = defaultdict()\n",
    "\n",
    "for i in range(2,50):\n",
    "    Q[i] = {} \n",
    "    for k in range(0,11):\n",
    "        Q[i][k] = {1: 0, 0: 0, 2:0}\n",
    "step = []\n",
    "rewards = []\n",
    "avg_rewards = []\n",
    "stop_game = True\n",
    "for i in range(1000000):\n",
    "    state_new, _ = env.reset()\n",
    "    \n",
    "    while True:\n",
    "        state = state_new\n",
    "        player_score = state[0] \n",
    "        diler_score = state[1]\n",
    "        dict_action = Q[player_score][diler_score]\n",
    "        if np.random.rand() < 0.1:\n",
    "            action = np.random.choice(list(dict_action.keys()))\n",
    "        else: \n",
    "            \n",
    "            action = max(dict_action, key=dict_action.get)\n",
    "           \n",
    "        state_new, reward, stop_game, _, _ = env.step(action)\n",
    "\n",
    "        player_score_new = state_new[0]\n",
    "        diler_score_new = state_new[1]\n",
    "        Q[player_score][diler_score][action] = Q[player_score][diler_score][action] + alpha * (reward + gamma * max( Q[player_score_new][diler_score_new].values()) - Q[player_score][diler_score][action])        \n",
    "        if stop_game:\n",
    "            break\n",
    "    rewards.append(reward)\n",
    "    if i % 50000 ==0 :\n",
    "        step.append(i)\n",
    "        avg_rewards.append(np.mean(rewards))\n",
    "\n",
    "\n"
   ]
  },
  {
   "cell_type": "code",
   "execution_count": 78,
   "id": "6410ac73-5bd1-4bc8-8a9f-d96e181b577c",
   "metadata": {},
   "outputs": [
    {
     "data": {
      "text/plain": [
       "-0.100207"
      ]
     },
     "execution_count": 78,
     "metadata": {},
     "output_type": "execute_result"
    }
   ],
   "source": [
    "np.mean(rewards)"
   ]
  },
  {
   "cell_type": "code",
   "execution_count": 91,
   "id": "e7a5fe6f-0b1d-47bb-9fd8-b4b00d14d80c",
   "metadata": {},
   "outputs": [],
   "source": [
    "reward_sum = 0\n",
    "for _ in range(10):\n",
    "    for i in range(100):\n",
    "        state_new, _ = env.reset()\n",
    "\n",
    "        while True:\n",
    "            state = state_new\n",
    "            player_score = state[0] \n",
    "            diler_score = state[1]\n",
    "            dict_action = Q[player_score][diler_score]\n",
    "            if np.random.rand() < 0.1:\n",
    "                action = np.random.choice(list(dict_action.keys()))\n",
    "            else: \n",
    "                action = max(dict_action, key=dict_action.get)\n",
    "            state_new, reward, stop_game, _, _ = env.step(action)\n",
    "\n",
    "            player_score_new = state_new[0]\n",
    "            diler_score_new = state_new[1]\n",
    "            Q[player_score][diler_score][action] = Q[player_score][diler_score][action] + alpha * (reward + gamma * max( Q[player_score_new][diler_score_new].values()) - Q[player_score][diler_score][action])        \n",
    "            if stop_game:\n",
    "                break\n",
    "        reward_sum += reward"
   ]
  },
  {
   "cell_type": "code",
   "execution_count": 92,
   "id": "6c18ff85-9ee9-4696-a7bb-ad491d4e16b3",
   "metadata": {},
   "outputs": [
    {
     "name": "stdout",
     "output_type": "stream",
     "text": [
      "Казино выиграет: 44.0\n"
     ]
    }
   ],
   "source": [
    "print(f'Казино выиграет: {-1 * reward_sum}')"
   ]
  },
  {
   "cell_type": "code",
   "execution_count": 93,
   "id": "ad32f98c-651a-4acd-bb2e-2f29c44f5d2d",
   "metadata": {},
   "outputs": [
    {
     "data": {
      "text/plain": [
       "Text(0, 0.5, 'Средний выиграш')"
      ]
     },
     "execution_count": 93,
     "metadata": {},
     "output_type": "execute_result"
    },
    {
     "data": {
      "image/png": "[encoded data removed]",
      "text/plain": [
       "<Figure size 1080x504 with 1 Axes>"
      ]
     },
     "metadata": {
      "needs_background": "light"
     },
     "output_type": "display_data"
    }
   ],
   "source": [
    "plt.figure(figsize=(15, 7))\n",
    "plt.plot(step[1:], avg_rewards[1:])\n",
    "plt.xlabel(\"Кол-во раздач\")\n",
    "plt.ylabel(\"Средний выиграш\")"
   ]
  },
  {
   "cell_type": "code",
   "execution_count": null,
   "id": "09258971-1557-476a-99e9-ea50cba9349f",
   "metadata": {},
   "outputs": [],
   "source": []
  }
 ],
 "metadata": {
  "kernelspec": {
   "display_name": "Python 3",
   "language": "python",
   "name": "python3"
  },
  "language_info": {
   "codemirror_mode": {
    "name": "ipython",
    "version": 3
   },
   "file_extension": ".py",
   "mimetype": "text/x-python",
   "name": "python",
   "nbconvert_exporter": "python",
   "pygments_lexer": "ipython3",
   "version": "3.8.8"
  }
 },
 "nbformat": 4,
 "nbformat_minor": 5
}
